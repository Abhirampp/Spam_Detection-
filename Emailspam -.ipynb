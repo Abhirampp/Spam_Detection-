{
 "cells": [
  {
   "cell_type": "code",
   "execution_count": 1,
   "id": "c5213c2a",
   "metadata": {},
   "outputs": [],
   "source": [
    "import pandas as pd\n",
    "import numpy as np\n",
    "from sklearn.model_selection import train_test_split\n",
    "from sklearn.feature_extraction.text import TfidfVectorizer\n",
    "from sklearn.linear_model import LogisticRegression\n",
    "from sklearn.metrics import accuracy_score"
   ]
  },
  {
   "cell_type": "code",
   "execution_count": 3,
   "id": "086970e4",
   "metadata": {},
   "outputs": [
    {
     "data": {
      "text/html": [
       "<div>\n",
       "<style scoped>\n",
       "    .dataframe tbody tr th:only-of-type {\n",
       "        vertical-align: middle;\n",
       "    }\n",
       "\n",
       "    .dataframe tbody tr th {\n",
       "        vertical-align: top;\n",
       "    }\n",
       "\n",
       "    .dataframe thead th {\n",
       "        text-align: right;\n",
       "    }\n",
       "</style>\n",
       "<table border=\"1\" class=\"dataframe\">\n",
       "  <thead>\n",
       "    <tr style=\"text-align: right;\">\n",
       "      <th></th>\n",
       "      <th>Category</th>\n",
       "      <th>Message</th>\n",
       "    </tr>\n",
       "  </thead>\n",
       "  <tbody>\n",
       "    <tr>\n",
       "      <th>0</th>\n",
       "      <td>ham</td>\n",
       "      <td>Go until jurong point, crazy.. Available only ...</td>\n",
       "    </tr>\n",
       "    <tr>\n",
       "      <th>1</th>\n",
       "      <td>ham</td>\n",
       "      <td>Ok lar... Joking wif u oni...</td>\n",
       "    </tr>\n",
       "    <tr>\n",
       "      <th>2</th>\n",
       "      <td>spam</td>\n",
       "      <td>Free entry in 2 a wkly comp to win FA Cup fina...</td>\n",
       "    </tr>\n",
       "    <tr>\n",
       "      <th>3</th>\n",
       "      <td>ham</td>\n",
       "      <td>U dun say so early hor... U c already then say...</td>\n",
       "    </tr>\n",
       "    <tr>\n",
       "      <th>4</th>\n",
       "      <td>ham</td>\n",
       "      <td>Nah I don't think he goes to usf, he lives aro...</td>\n",
       "    </tr>\n",
       "  </tbody>\n",
       "</table>\n",
       "</div>"
      ],
      "text/plain": [
       "  Category                                            Message\n",
       "0      ham  Go until jurong point, crazy.. Available only ...\n",
       "1      ham                      Ok lar... Joking wif u oni...\n",
       "2     spam  Free entry in 2 a wkly comp to win FA Cup fina...\n",
       "3      ham  U dun say so early hor... U c already then say...\n",
       "4      ham  Nah I don't think he goes to usf, he lives aro..."
      ]
     },
     "execution_count": 3,
     "metadata": {},
     "output_type": "execute_result"
    }
   ],
   "source": [
    "Raw_data =  pd.read_csv('mail_data.csv')\n",
    "Raw_data.head()"
   ]
  },
  {
   "cell_type": "code",
   "execution_count": 4,
   "id": "5fa4c7e7",
   "metadata": {},
   "outputs": [],
   "source": [
    "mail_data = Raw_data.where((pd.notnull(Raw_data)),'')"
   ]
  },
  {
   "cell_type": "code",
   "execution_count": 5,
   "id": "f5eea13a",
   "metadata": {},
   "outputs": [
    {
     "data": {
      "text/html": [
       "<div>\n",
       "<style scoped>\n",
       "    .dataframe tbody tr th:only-of-type {\n",
       "        vertical-align: middle;\n",
       "    }\n",
       "\n",
       "    .dataframe tbody tr th {\n",
       "        vertical-align: top;\n",
       "    }\n",
       "\n",
       "    .dataframe thead th {\n",
       "        text-align: right;\n",
       "    }\n",
       "</style>\n",
       "<table border=\"1\" class=\"dataframe\">\n",
       "  <thead>\n",
       "    <tr style=\"text-align: right;\">\n",
       "      <th></th>\n",
       "      <th>Category</th>\n",
       "      <th>Message</th>\n",
       "    </tr>\n",
       "  </thead>\n",
       "  <tbody>\n",
       "    <tr>\n",
       "      <th>0</th>\n",
       "      <td>ham</td>\n",
       "      <td>Go until jurong point, crazy.. Available only ...</td>\n",
       "    </tr>\n",
       "    <tr>\n",
       "      <th>1</th>\n",
       "      <td>ham</td>\n",
       "      <td>Ok lar... Joking wif u oni...</td>\n",
       "    </tr>\n",
       "    <tr>\n",
       "      <th>2</th>\n",
       "      <td>spam</td>\n",
       "      <td>Free entry in 2 a wkly comp to win FA Cup fina...</td>\n",
       "    </tr>\n",
       "    <tr>\n",
       "      <th>3</th>\n",
       "      <td>ham</td>\n",
       "      <td>U dun say so early hor... U c already then say...</td>\n",
       "    </tr>\n",
       "    <tr>\n",
       "      <th>4</th>\n",
       "      <td>ham</td>\n",
       "      <td>Nah I don't think he goes to usf, he lives aro...</td>\n",
       "    </tr>\n",
       "  </tbody>\n",
       "</table>\n",
       "</div>"
      ],
      "text/plain": [
       "  Category                                            Message\n",
       "0      ham  Go until jurong point, crazy.. Available only ...\n",
       "1      ham                      Ok lar... Joking wif u oni...\n",
       "2     spam  Free entry in 2 a wkly comp to win FA Cup fina...\n",
       "3      ham  U dun say so early hor... U c already then say...\n",
       "4      ham  Nah I don't think he goes to usf, he lives aro..."
      ]
     },
     "execution_count": 5,
     "metadata": {},
     "output_type": "execute_result"
    }
   ],
   "source": [
    "mail_data.head()"
   ]
  },
  {
   "cell_type": "code",
   "execution_count": 6,
   "id": "fedb4a96",
   "metadata": {},
   "outputs": [
    {
     "data": {
      "text/plain": [
       "(5572, 2)"
      ]
     },
     "execution_count": 6,
     "metadata": {},
     "output_type": "execute_result"
    }
   ],
   "source": [
    "mail_data.shape"
   ]
  },
  {
   "cell_type": "code",
   "execution_count": 8,
   "id": "143cd990",
   "metadata": {},
   "outputs": [],
   "source": [
    "mail_data.loc[mail_data['Category'] == 'spam','Category',] = 0\n",
    "mail_data.loc[mail_data['Category'] == 'ham','Category',] = 1"
   ]
  },
  {
   "cell_type": "code",
   "execution_count": 9,
   "id": "0aa15814",
   "metadata": {},
   "outputs": [],
   "source": [
    "x= mail_data['Message']\n",
    "y = mail_data['Category']"
   ]
  },
  {
   "cell_type": "code",
   "execution_count": 10,
   "id": "d5c5aa96",
   "metadata": {},
   "outputs": [
    {
     "name": "stdout",
     "output_type": "stream",
     "text": [
      "0       Go until jurong point, crazy.. Available only ...\n",
      "1                           Ok lar... Joking wif u oni...\n",
      "2       Free entry in 2 a wkly comp to win FA Cup fina...\n",
      "3       U dun say so early hor... U c already then say...\n",
      "4       Nah I don't think he goes to usf, he lives aro...\n",
      "                              ...                        \n",
      "5567    This is the 2nd time we have tried 2 contact u...\n",
      "5568                 Will ü b going to esplanade fr home?\n",
      "5569    Pity, * was in mood for that. So...any other s...\n",
      "5570    The guy did some bitching but I acted like i'd...\n",
      "5571                           Rofl. Its true to its name\n",
      "Name: Message, Length: 5572, dtype: object\n"
     ]
    }
   ],
   "source": [
    "print(x)"
   ]
  },
  {
   "cell_type": "code",
   "execution_count": 11,
   "id": "9496a5de",
   "metadata": {},
   "outputs": [
    {
     "data": {
      "text/plain": [
       "0       1\n",
       "1       1\n",
       "2       0\n",
       "3       1\n",
       "4       1\n",
       "       ..\n",
       "5567    0\n",
       "5568    1\n",
       "5569    1\n",
       "5570    1\n",
       "5571    1\n",
       "Name: Category, Length: 5572, dtype: object"
      ]
     },
     "execution_count": 11,
     "metadata": {},
     "output_type": "execute_result"
    }
   ],
   "source": [
    "y"
   ]
  },
  {
   "cell_type": "code",
   "execution_count": 12,
   "id": "d7a542eb",
   "metadata": {},
   "outputs": [],
   "source": [
    "X_train , X_test , Y_train ,Y_test = train_test_split(x,y,test_size=0.2,stratify=y,random_state=3)"
   ]
  },
  {
   "cell_type": "code",
   "execution_count": 13,
   "id": "1d97a878",
   "metadata": {},
   "outputs": [
    {
     "name": "stdout",
     "output_type": "stream",
     "text": [
      "(4457,) (1115,)\n"
     ]
    }
   ],
   "source": [
    "print(X_train.shape,X_test.shape)"
   ]
  },
  {
   "cell_type": "code",
   "execution_count": 15,
   "id": "684ab7fc",
   "metadata": {},
   "outputs": [],
   "source": [
    "feature_Extraction = TfidfVectorizer(min_df=1,stop_words='english',lowercase='True')\n",
    "X_train_feature = feature_Extraction.fit_transform(X_train)\n",
    "X_test_feature = feature_Extraction.transform(X_test)\n",
    "Y_train = Y_train.astype('int')\n",
    "Y_test = Y_test.astype('int')"
   ]
  },
  {
   "cell_type": "code",
   "execution_count": 16,
   "id": "987b1122",
   "metadata": {},
   "outputs": [
    {
     "name": "stdout",
     "output_type": "stream",
     "text": [
      "  (0, 0)\t0.23628394623676158\n",
      "  (0, 1657)\t0.28101404009316056\n",
      "  (0, 6468)\t0.26793132631329497\n",
      "  (0, 4557)\t0.28101404009316056\n",
      "  (0, 421)\t0.25144905621529934\n",
      "  (0, 4306)\t0.26793132631329497\n",
      "  (0, 5029)\t0.17467075796896542\n",
      "  (0, 2644)\t0.28101404009316056\n",
      "  (0, 1540)\t0.17407870571957915\n",
      "  (0, 6330)\t0.24059246244542992\n",
      "  (0, 3627)\t0.25144905621529934\n",
      "  (0, 3113)\t0.28101404009316056\n",
      "  (0, 1193)\t0.22908400928709988\n",
      "  (0, 1857)\t0.17073786814794129\n",
      "  (0, 3806)\t0.28101404009316056\n",
      "  (0, 2353)\t0.28101404009316056\n",
      "  (1, 4076)\t0.1543395674723974\n",
      "  (1, 5416)\t0.28967873139399253\n",
      "  (1, 6977)\t0.1293522168838017\n",
      "  (1, 765)\t0.21147006367289747\n",
      "  (1, 1068)\t0.1771111381363262\n",
      "  (1, 3089)\t0.13752009582621935\n",
      "  (1, 3961)\t0.20073435617244362\n",
      "  (1, 3828)\t0.13684128003316173\n",
      "  (1, 2113)\t0.19851614641109666\n",
      "  :\t:\n",
      "  (4456, 3913)\t0.23883125341667502\n",
      "  (4456, 2138)\t0.23883125341667502\n",
      "  (4456, 6568)\t0.23883125341667502\n",
      "  (4456, 6646)\t0.22771237505351186\n",
      "  (4456, 5447)\t0.2198234053076842\n",
      "  (4456, 4878)\t0.2137042449780485\n",
      "  (4456, 5420)\t0.19758564858135794\n",
      "  (4456, 4765)\t0.1730749026661772\n",
      "  (4456, 2690)\t0.19758564858135794\n",
      "  (4456, 2236)\t0.17068883072653956\n",
      "  (4456, 1290)\t0.1566807006510762\n",
      "  (4456, 4975)\t0.15534275099802256\n",
      "  (4456, 1571)\t0.1695693884304312\n",
      "  (4456, 3362)\t0.13296028402451\n",
      "  (4456, 5430)\t0.2902170940779003\n",
      "  (4456, 3147)\t0.11213756070741854\n",
      "  (4456, 4120)\t0.11213756070741854\n",
      "  (4456, 7434)\t0.1566807006510762\n",
      "  (4456, 3262)\t0.16745892210920407\n",
      "  (4456, 2414)\t0.17857780047236718\n",
      "  (4456, 7339)\t0.13767285254208542\n",
      "  (4456, 5091)\t0.1743505991070133\n",
      "  (4456, 3748)\t0.1028335575523561\n",
      "  (4456, 3828)\t0.1128214497218694\n",
      "  (4456, 3982)\t0.11453591597456492\n"
     ]
    }
   ],
   "source": [
    "print(X_train_feature)"
   ]
  },
  {
   "cell_type": "code",
   "execution_count": 17,
   "id": "20698847",
   "metadata": {},
   "outputs": [],
   "source": [
    "model =LogisticRegression()"
   ]
  },
  {
   "cell_type": "code",
   "execution_count": 18,
   "id": "961be2dc",
   "metadata": {},
   "outputs": [
    {
     "data": {
      "text/plain": [
       "LogisticRegression()"
      ]
     },
     "execution_count": 18,
     "metadata": {},
     "output_type": "execute_result"
    }
   ],
   "source": [
    "model.fit(X_train_feature,Y_train)"
   ]
  },
  {
   "cell_type": "code",
   "execution_count": 19,
   "id": "c05ae76e",
   "metadata": {},
   "outputs": [
    {
     "name": "stdout",
     "output_type": "stream",
     "text": [
      "Accuracy on training data 0.9670181736594121\n"
     ]
    }
   ],
   "source": [
    "training_predition = model.predict(X_train_feature)\n",
    "accuracy_training = accuracy_score(Y_train,training_predition)\n",
    "print(\"Accuracy on training data\",accuracy_training)"
   ]
  },
  {
   "cell_type": "code",
   "execution_count": 21,
   "id": "6452afd5",
   "metadata": {},
   "outputs": [
    {
     "name": "stdout",
     "output_type": "stream",
     "text": [
      "Accuracy on testing data 0.9721973094170404\n"
     ]
    }
   ],
   "source": [
    "test_predition = model.predict(X_test_feature)\n",
    "accuracy_testing = accuracy_score(Y_test,test_predition)\n",
    "print(\"Accuracy on testing data\",accuracy_testing)"
   ]
  },
  {
   "cell_type": "code",
   "execution_count": 34,
   "id": "c7add51e",
   "metadata": {},
   "outputs": [
    {
     "name": "stdout",
     "output_type": "stream",
     "text": [
      "Spam Mail\n"
     ]
    }
   ],
   "source": [
    "input_mail=[\"XXXMobileMovieClub: To use your credit, click the WAP link in the next txt message or click here>> http://wap. xxxmobilemovieclub.com?n=QJKGIGHJJGCBL\"]\n",
    "input_data_feature = feature_Extraction.transform(input_mail)\n",
    "prediction = model.predict(input_data_feature)\n",
    "\n",
    "if prediction[0]==1:\n",
    "    print(\"Ham Mail\")\n",
    "else:\n",
    "        print(\"Spam Mail\")"
   ]
  }
 ],
 "metadata": {
  "kernelspec": {
   "display_name": "Python 3 (ipykernel)",
   "language": "python",
   "name": "python3"
  },
  "language_info": {
   "codemirror_mode": {
    "name": "ipython",
    "version": 3
   },
   "file_extension": ".py",
   "mimetype": "text/x-python",
   "name": "python",
   "nbconvert_exporter": "python",
   "pygments_lexer": "ipython3",
   "version": "3.9.13"
  }
 },
 "nbformat": 4,
 "nbformat_minor": 5
}
